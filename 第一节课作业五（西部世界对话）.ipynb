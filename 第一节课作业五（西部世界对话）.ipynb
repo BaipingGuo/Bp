{
 "cells": [
  {
   "cell_type": "markdown",
   "metadata": {},
   "source": [
    "作业五：编程实践部分\n",
    "\n",
    "情境设定：西部世界"
   ]
  },
  {
   "cell_type": "code",
   "execution_count": 2,
   "metadata": {},
   "outputs": [],
   "source": [
    "human = \"\"\"\n",
    "human = 自己 寻找 活动\n",
    "自己 = 我 | 俺 | 我们 \n",
    "寻找 = 看看 | 找找 | 想找点\n",
    "活动 = 乐子 | 玩的\n",
    "\"\"\"\n",
    "\n",
    "host = \"\"\"\n",
    "host = 寒暄 报数 询问 业务相关 结尾 \n",
    "报数 = 我是 数字 号 ,\n",
    "数字 = 单个数字 | 数字 单个数字 \n",
    "单个数字 = 1 | 2 | 3 | 4 | 5 | 6 | 7 | 8 | 9 \n",
    "寒暄 = 称谓 打招呼 | 打招呼\n",
    "称谓 = 人称 ,\n",
    "人称 = 先生 | 女士 | 小朋友\n",
    "打招呼 = 你好 | 您好 \n",
    "询问 = 请问你要 | 您需要\n",
    "业务相关 = 玩玩 具体业务\n",
    "玩玩 = 耍一耍 | 玩一玩\n",
    "具体业务 = 喝酒 | 打牌 | 打猎 | 赌博\n",
    "结尾 = 吗？\"\"\""
   ]
  },
  {
   "cell_type": "code",
   "execution_count": 3,
   "metadata": {},
   "outputs": [],
   "source": [
    "import random\n",
    "\n",
    "#整理用于随机读取的数据库 ---- 使用字典进行存储\n",
    "def get_generation_poem (raw_string, target, stmt_split = '=', or_split = '|'):\n",
    "    rules = dict() #对象为字典\n",
    "    for line in raw_string.split('\\n'): #与预处理的数据特点有关\n",
    "        if not line: continue\n",
    "        stmt, expression = line.split(stmt_split) #分开\n",
    "        rules[stmt.strip()]=expression.split(or_split) # 分开的同时去掉首尾的空格，确保映射\n",
    "        generated = generate (rules, target = target) # 嵌套，见下\n",
    "    return generated\n",
    "\n",
    "def generate(rule, target):\n",
    "    if target in rule: \n",
    "        words = rule[target] #在字典中，取得对应的语法数据集\n",
    "        word = random.choice(words) #随机选择一套语法\n",
    "        return ''.join(generate(rule, target=c.strip()) for c in word.split()) #去掉首尾空格\n",
    "    else:\n",
    "        return target #如果映射不对，则会回到原先的语法规则"
   ]
  },
  {
   "cell_type": "code",
   "execution_count": 4,
   "metadata": {},
   "outputs": [
    {
     "name": "stdout",
     "output_type": "stream",
     "text": [
      "我找找乐子\n",
      "小朋友,您好我是5号,请问你要玩一玩赌博吗？\n",
      "我们想找点乐子\n",
      "您好我是395128号,您需要耍一耍打牌吗？\n",
      "我看看乐子\n",
      "您好我是84号,请问你要玩一玩打牌吗？\n",
      "俺想找点乐子\n",
      "你好我是22号,您需要耍一耍打猎吗？\n"
     ]
    }
   ],
   "source": [
    "for i in range(4):\n",
    "    print (get_generation_poem(human,target='human'))\n",
    "    print (get_generation_poem(host,target='host'))"
   ]
  },
  {
   "cell_type": "code",
   "execution_count": null,
   "metadata": {},
   "outputs": [],
   "source": []
  }
 ],
 "metadata": {
  "kernelspec": {
   "display_name": "Python 3",
   "language": "python",
   "name": "python3"
  },
  "language_info": {
   "codemirror_mode": {
    "name": "ipython",
    "version": 3
   },
   "file_extension": ".py",
   "mimetype": "text/x-python",
   "name": "python",
   "nbconvert_exporter": "python",
   "pygments_lexer": "ipython3",
   "version": "3.6.5"
  }
 },
 "nbformat": 4,
 "nbformat_minor": 2
}
