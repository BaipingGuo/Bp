{
 "cells": [
  {
   "cell_type": "markdown",
   "metadata": {},
   "source": [
    "作业一：复现课堂代码\n",
    "\n",
    "情境设定：写诗\n",
    "\n",
    "第一部分：Pattern 泛化"
   ]
  },
  {
   "cell_type": "code",
   "execution_count": 19,
   "metadata": {},
   "outputs": [],
   "source": [
    "#设定规则\n",
    "poem_rule='''\n",
    "row => noun_phrase verb_phrase1 | verb_phrase2 verb noun_phrase\n",
    "noun_phrase => adj* noun | number* noun\n",
    "adj* => adj | adj | adj\n",
    "number* => number | number | number\n",
    "verb_phrase1 => verb noun_phrase\n",
    "verb_phrase2 => verb noun\n",
    "number => 一 | 二 | 三 | 四 | 五 | 六 | 七 | 八 | 九 | 十 | 百 | 千 | 万\n",
    "noun => 江 | 花 | 日 | 山 | 水 | 叶 | 丘 | 鸟 | 月 | 蝉 | 泉 | 海 | 秋\n",
    "adj =>  红 | 白 | 黄 | 蓝 | 远 | 近 | 遥 | 香 | 衰 | 深 | 浅 | 暖 | 寒\n",
    "verb => 来 | 去 | 过 | 走 | 没 | 衰 | 归 | 尽 | 流 | 回 | 争 | 知 | 踏\n",
    "'''"
   ]
  },
  {
   "cell_type": "code",
   "execution_count": 20,
   "metadata": {},
   "outputs": [],
   "source": [
    "#随机选择\n",
    "import random\n",
    "\n",
    "#整理用于随机读取的数据库 ---- 使用字典进行存储\n",
    "def get_generation_poem (raw_string, target, stmt_split = '=>', or_split = '|'):\n",
    "    rules = dict() #对象为字典\n",
    "    for line in raw_string.split('\\n'): #与预处理的数据特点有关\n",
    "        if not line: continue\n",
    "        stmt, expression = line.split(stmt_split) #分开\n",
    "        rules[stmt.strip()]=expression.split(or_split) # 分开的同时去掉首尾的空格，确保映射\n",
    "        generated = generate (rules, target = target) # 嵌套，见下\n",
    "    return generated\n",
    "\n",
    "def generate(rule, target):\n",
    "    if target in rule: \n",
    "        words = rule[target] #在字典中，取得对应的语法数据集\n",
    "        word = random.choice(words) #随机选择一套语法\n",
    "        return ''.join(generate(rule, target=c.strip()) for c in word.split()) #去掉首尾空格\n",
    "    else:\n",
    "        return target #如果映射不对，则会回到原先的语法规则"
   ]
  },
  {
   "cell_type": "code",
   "execution_count": 22,
   "metadata": {},
   "outputs": [
    {
     "name": "stdout",
     "output_type": "stream",
     "text": [
      "四蝉知暖叶\n",
      "尽泉回三蝉\n",
      "黄花尽九叶\n",
      "白叶知远泉\n"
     ]
    }
   ],
   "source": [
    "for i in range(4):\n",
    "    print (get_generation_poem(poem_rule,target='row'))"
   ]
  },
  {
   "cell_type": "markdown",
   "metadata": {},
   "source": [
    "第二部分：2-gram 概率计算"
   ]
  },
  {
   "cell_type": "code",
   "execution_count": 23,
   "metadata": {},
   "outputs": [],
   "source": [
    "corpus='C:/Users/GuoBaiPing/Desktop/个人文件/人工智能与NLP 5期/article_9k.txt' #注意/\n",
    "FILE=open(corpus,encoding='UTF-8').read() # 注意encoding = 'UTF-8'"
   ]
  },
  {
   "cell_type": "code",
   "execution_count": 24,
   "metadata": {},
   "outputs": [],
   "source": [
    "import jieba #使用jieba切词\n",
    "\n",
    "max_length=3000000\n",
    "sub_file=FILE[:max_length]\n",
    "def cut(string):\n",
    "    return list(jieba.cut(string)) #注意将jieba切词的结果转成list列表\n",
    "\n",
    "TOKENS = cut(sub_file) \n",
    "# most of what we are going to do with language relies on \n",
    "# separating out or tokenizing words from running text, the task of tokenization"
   ]
  },
  {
   "cell_type": "code",
   "execution_count": 34,
   "metadata": {},
   "outputs": [],
   "source": [
    "import collections\n",
    "from collections import Counter #计数\n",
    "import matplotlib.pyplot as plt #绘图\n",
    "%matplotlib inline\n",
    "import numpy as np\n",
    "\n",
    "words_count=Counter(TOKENS)\n",
    "words_with_fre=[f for w, f in words_count.most_common(100000)] #count.most_common()按需求设值。此处返回一个列表，列表是按频率多少从大到小的排列\n",
    "#print(words_with_fre)"
   ]
  },
  {
   "cell_type": "code",
   "execution_count": 37,
   "metadata": {},
   "outputs": [
    {
     "data": {
      "text/plain": [
       "[<matplotlib.lines.Line2D at 0x20e5d1bfeb8>]"
      ]
     },
     "execution_count": 37,
     "metadata": {},
     "output_type": "execute_result"
    },
    {
     "data": {
      "image/png": "[encoded data removed]",
      "text/plain": [
       "<Figure size 432x288 with 1 Axes>"
      ]
     },
     "metadata": {},
     "output_type": "display_data"
    }
   ],
   "source": [
    "plt.plot(np.log(np.log(words_with_fre))) #这里使用的是散点图，并用log将其特点更突出"
   ]
  },
  {
   "cell_type": "code",
   "execution_count": 45,
   "metadata": {},
   "outputs": [],
   "source": [
    "_2_gram_words = [\n",
    "    TOKENS [i] + TOKENS [i+1] for i in range(len(TOKENS)-1)\n",
    "]\n",
    "#建立2-gram的新列表\n",
    "#print(_2_gram_words[:100])\n",
    "\n",
    "_2_gram_word_counts = Counter(_2_gram_words)"
   ]
  },
  {
   "cell_type": "code",
   "execution_count": 52,
   "metadata": {},
   "outputs": [],
   "source": [
    "def get_1_gram_count(word):\n",
    "    if word in words_count : \n",
    "        return words_count[word]\n",
    "    else:\n",
    "        return words_count.most_common()[-1][-1] #确保如果找不到该词，必定返回最小的计数，即1，这样在进行除法运算时不会出现分子为0的情况\n",
    "\n",
    "#print(get_1_gram_count('abc'))\n",
    "\n",
    "def get_2_gram_count(word):\n",
    "    if word in _2_gram_words : \n",
    "        return _2_gram_word_counts[word]\n",
    "    else:\n",
    "        return _2_gram_word_counts.most_common()[-1][-1] #确保如果找不到该词，必定返回最小的计数，即1，这样在进行除法运算时不会出现分子为0的情况\n",
    "    \n",
    "#def get_gram_count(word,wc):\n",
    "#    if word in wc: return wc[word]\n",
    "#    else:\n",
    "#        return wc.most_common()[-1][-1]\n",
    "#以上代码也可以替代 def get_1_gram_count(word)和 def get_2_gram_count(word)\n",
    "    \n",
    "def _2_gram_models(sentence):\n",
    "    tokens=cut(sentence) #将input的语句进行切分\n",
    "    probability=1 #因为是个似然函数，所以初始化为1\n",
    "    for i in range(len(tokens)-1):\n",
    "        word = tokens[i]\n",
    "        next_word=tokens[i+1]\n",
    "        pro=get_2_gram_count(word+next_word) / get_1_gram_count(word)\n",
    "        probability *= pro #似然计算\n",
    "    return probability"
   ]
  },
  {
   "cell_type": "code",
   "execution_count": 53,
   "metadata": {},
   "outputs": [
    {
     "data": {
      "text/plain": [
       "8.974783952864984e-09"
      ]
     },
     "execution_count": 53,
     "metadata": {},
     "output_type": "execute_result"
    }
   ],
   "source": [
    "_2_gram_models('你今天喝咖啡了吗')"
   ]
  },
  {
   "cell_type": "code",
   "execution_count": null,
   "metadata": {},
   "outputs": [],
   "source": []
  }
 ],
 "metadata": {
  "kernelspec": {
   "display_name": "Python 3",
   "language": "python",
   "name": "python3"
  },
  "language_info": {
   "codemirror_mode": {
    "name": "ipython",
    "version": 3
   },
   "file_extension": ".py",
   "mimetype": "text/x-python",
   "name": "python",
   "nbconvert_exporter": "python",
   "pygments_lexer": "ipython3",
   "version": "3.6.5"
  }
 },
 "nbformat": 4,
 "nbformat_minor": 2
}
